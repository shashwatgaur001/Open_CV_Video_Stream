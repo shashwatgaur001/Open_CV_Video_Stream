{
 "cells": [
  {
   "cell_type": "code",
   "execution_count": null,
   "metadata": {},
   "outputs": [],
   "source": [
    "import cv2\n",
    "import socket\n",
    "import pickle\n",
    "import numpy"
   ]
  },
  {
   "cell_type": "code",
   "execution_count": null,
   "metadata": {},
   "outputs": [],
   "source": [
    "s=socket.socket()"
   ]
  },
  {
   "cell_type": "code",
   "execution_count": null,
   "metadata": {},
   "outputs": [],
   "source": [
    "serverip=\"192.168.56.1\"\n",
    "serverport=1234\n",
    "s.bind((serverip,serverport))\n",
    "print(\"bind success\")"
   ]
  },
  {
   "cell_type": "code",
   "execution_count": null,
   "metadata": {},
   "outputs": [],
   "source": []
  },
  {
   "cell_type": "code",
   "execution_count": null,
   "metadata": {},
   "outputs": [],
   "source": [
    "s.listen()\n",
    "clses, addr = s.accept()"
   ]
  },
  {
   "cell_type": "code",
   "execution_count": null,
   "metadata": {},
   "outputs": [],
   "source": [
    "cap=cv2.VideoCapture(0)\n",
    "\n",
    "while True:\n",
    "    xyz=9877987\n",
    "    vidc=clses.recv(xyz)\n",
    "    length=len(vidc)\n",
    "    if length>xyz:\n",
    "        d=length+xyz\n",
    "        vidc1=pickle.loads(d)\n",
    "        cv2.imshow('client',vidc1)\n",
    "    else:\n",
    "        vido=   pickle.loads(vidc)\n",
    "        cv2.imshow('client',vido)\n",
    "    if cv2.waitKey(10) ==13:\n",
    "        break\n",
    "    ret,photoser=cap.read()\n",
    "    ph=pickle.dumps(photoser)\n",
    "    clses.send(ph)\n",
    "cv2.destroyAllWindows()\n"
   ]
  },
  {
   "cell_type": "code",
   "execution_count": null,
   "metadata": {},
   "outputs": [],
   "source": [
    " "
   ]
  },
  {
   "cell_type": "code",
   "execution_count": null,
   "metadata": {},
   "outputs": [],
   "source": []
  }
 ],
 "metadata": {
  "kernelspec": {
   "display_name": "Python 3",
   "language": "python",
   "name": "python3"
  }
 },
 "nbformat": 4,
 "nbformat_minor": 4
}
