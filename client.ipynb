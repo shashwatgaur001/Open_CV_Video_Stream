{
 "cells": [
  {
   "cell_type": "code",
   "execution_count": 1,
   "metadata": {},
   "outputs": [],
   "source": [
    "import socket\n",
    "import cv2\n",
    "import pickle "
   ]
  },
  {
   "cell_type": "code",
   "execution_count": 2,
   "metadata": {},
   "outputs": [],
   "source": [
    "s=socket.socket()"
   ]
  },
  {
   "cell_type": "code",
   "execution_count": 3,
   "metadata": {},
   "outputs": [
    {
     "name": "stdout",
     "output_type": "stream",
     "text": [
      "established\n"
     ]
    }
   ],
   "source": [
    "ip=\"192.168.56.1\"\n",
    "port=1234\n",
    "s.connect((ip,port))\n",
    "print(\"established\")"
   ]
  },
  {
   "cell_type": "code",
   "execution_count": 4,
   "metadata": {},
   "outputs": [],
   "source": [
    "cap1= cv2.VideoCapture(\"http://192.168.1.5:8080/video\")\n",
    "while True:\n",
    "    ret,photocli = cap1.read()\n",
    "    cli=pickle.dumps(photocli)\n",
    "    s.send(cli)\n",
    "    y= s.recv(999999)\n",
    "    y1=pickle.loads(y)\n",
    "    cv2.imshow('server',y1)\n",
    "    if cv2.waitKey(10) ==13:\n",
    "        break\n",
    "    \n",
    "\n",
    "cv2.destroyAllWindows()\n"
   ]
  },
  {
   "cell_type": "code",
   "execution_count": null,
   "metadata": {},
   "outputs": [],
   "source": []
  },
  {
   "cell_type": "code",
   "execution_count": null,
   "metadata": {},
   "outputs": [],
   "source": []
  }
 ],
 "metadata": {
  "kernelspec": {
   "display_name": "Python 3",
   "language": "python",
   "name": "python3"
  },
  "language_info": {
   "codemirror_mode": {
    "name": "ipython",
    "version": 3
   },
   "file_extension": ".py",
   "mimetype": "text/x-python",
   "name": "python",
   "nbconvert_exporter": "python",
   "pygments_lexer": "ipython3",
   "version": "3.7.6"
  }
 },
 "nbformat": 4,
 "nbformat_minor": 4
}
